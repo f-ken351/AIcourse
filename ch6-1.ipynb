{
 "cells": [
  {
   "cell_type": "markdown",
   "metadata": {},
   "source": [
    "- (c) Ken-ichi Fukui, 2020/01/17\n",
    "- MIT License"
   ]
  },
  {
   "cell_type": "markdown",
   "metadata": {},
   "source": [
    "## 多層パーセプトロンによる手書き文字認識"
   ]
  },
  {
   "cell_type": "code",
   "execution_count": 16,
   "metadata": {},
   "outputs": [],
   "source": [
    "import os\n",
    "import struct\n",
    "import numpy as np\n",
    "import matplotlib.pyplot as plt\n",
    "from neuralnet import NeuralNetMLP\n",
    "from sklearn.decomposition import PCA"
   ]
  },
  {
   "cell_type": "markdown",
   "metadata": {},
   "source": [
    "### MNISTデータの読み込み関数"
   ]
  },
  {
   "cell_type": "code",
   "execution_count": 17,
   "metadata": {},
   "outputs": [],
   "source": [
    "def load_mnist(path, kind='train'):\n",
    "\n",
    "    labels_path = os.path.join(path,'%s-labels.idx1-ubyte'% kind)\n",
    "    images_path = os.path.join(path,'%s-images.idx3-ubyte'% kind)\n",
    "   \n",
    "    with open(labels_path, 'rb') as lbpath:\n",
    "        magic, n = struct.unpack('>II',lbpath.read(8))\n",
    "        labels = np.fromfile(lbpath,dtype=np.uint8)\n",
    "    \n",
    "    with open(images_path, 'rb') as imgpath:\n",
    "        magic, num, rows, cols = struct.unpack(\">IIII\",imgpath.read(16))\n",
    "        images = np.fromfile(imgpath,dtype=np.uint8).reshape(len(labels), 784)\n",
    "        \n",
    "    return images, labels"
   ]
  },
  {
   "cell_type": "code",
   "execution_count": 18,
   "metadata": {},
   "outputs": [],
   "source": [
    "# MNISTデータの読み込み\n",
    "current_path = os.path.dirname(os.path.realpath('__file__'))\n",
    "X_train, y_train = load_mnist(current_path, kind='train')\n",
    "X_test, y_test = load_mnist(current_path, kind='t10k')"
   ]
  },
  {
   "cell_type": "code",
   "execution_count": 19,
   "metadata": {},
   "outputs": [],
   "source": [
    "# 学習データとテストデータは最初の1000個用いる\n",
    "n_training_data = 1000\n",
    "n_test_data = 1000\n",
    "\n",
    "X_trn = X_train[:n_training_data][:]\n",
    "y_trn = y_train[:n_training_data][:]\n",
    "X_tst = X_test[:n_test_data][:]\n",
    "y_tst = y_test[:n_test_data][:]"
   ]
  },
  {
   "cell_type": "markdown",
   "metadata": {},
   "source": [
    "### PCAによる次元圧縮"
   ]
  },
  {
   "cell_type": "code",
   "execution_count": 20,
   "metadata": {},
   "outputs": [],
   "source": [
    "n_components = 10\n",
    "pca = PCA(n_components)\n",
    "pca.fit(X_trn)\n",
    "X_trn_pca = pca.transform(X_trn)\n",
    "X_tst_pca = pca.transform(X_tst)"
   ]
  },
  {
   "cell_type": "markdown",
   "metadata": {},
   "source": [
    "### 多層パーセプトロン(MLP)のインスタンスの生成と学習"
   ]
  },
  {
   "cell_type": "code",
   "execution_count": 21,
   "metadata": {},
   "outputs": [
    {
     "name": "stderr",
     "output_type": "stream",
     "text": [
      "Epoch: 300/300"
     ]
    },
    {
     "data": {
      "text/plain": [
       "<neuralnet.NeuralNetMLP at 0x1a248c0198>"
      ]
     },
     "execution_count": 21,
     "metadata": {},
     "output_type": "execute_result"
    }
   ],
   "source": [
    "nn = NeuralNetMLP(n_output=10,          # 出力ユニット数\n",
    "                  n_features=n_components,  # 入力ユニット数\n",
    "                  n_hidden=30,                       # 隠れユニット数\n",
    "                  l2=2.0,                                 # L2正則化のλパラメータ\n",
    "                  l1=0.0,                                 # L1正則化のλパラメータ\n",
    "                  epochs=300,                       # 学習エポック数\n",
    "                  eta=0.001,                          # 学習率の初期値\n",
    "                  alpha = 0.001,                     # モーメンタム学習の1つ前の勾配の係数\n",
    "                  decrease_const=0.00001,   # 適応学習率の減少定数\n",
    "                  minibatches=10,                 # 各エポックでのミニバッチ数\n",
    "                  shuffle=True,                      # データのシャッフル\n",
    "                  random_state=1)                # 乱数シードの状態\n",
    "                  \n",
    "nn.fit(X_trn_pca, y_trn, print_progress=True)"
   ]
  },
  {
   "cell_type": "markdown",
   "metadata": {},
   "source": [
    "### 学習履歴の描画"
   ]
  },
  {
   "cell_type": "code",
   "execution_count": 22,
   "metadata": {},
   "outputs": [
    {
     "data": {
      "image/png": "[encoded data removed]",
      "text/plain": [
       "<Figure size 432x288 with 1 Axes>"
      ]
     },
     "metadata": {},
     "output_type": "display_data"
    }
   ],
   "source": [
    "plt.plot(range(len(nn.cost_)), nn.cost_)\n",
    "plt.ylabel('Cost')\n",
    "plt.xlabel('Epochs * minibatches')\n",
    "plt.tight_layout()"
   ]
  },
  {
   "cell_type": "markdown",
   "metadata": {},
   "source": [
    "### 学習データおよびテストデータに対するAccuracyの算出"
   ]
  },
  {
   "cell_type": "code",
   "execution_count": 24,
   "metadata": {},
   "outputs": [
    {
     "name": "stdout",
     "output_type": "stream",
     "text": [
      "accuracy for training data: 83.80%\n",
      "accuracy for test data: 74.20%\n"
     ]
    }
   ],
   "source": [
    "y_trn_pred = nn.predict(X_trn_pca)\n",
    "acc = np.sum(y_trn == y_trn_pred, axis=0)*100 / X_trn_pca.shape[0]\n",
    "print('accuracy for training data: %.2f%%' % acc)\n",
    "\n",
    "y_tst_pred = nn.predict(X_tst_pca)\n",
    "acc = np.sum(y_tst == y_tst_pred, axis=0)*100 / X_tst_pca.shape[0]\n",
    "print('accuracy for test data: %.2f%%' % acc)"
   ]
  }
 ],
 "metadata": {
  "kernelspec": {
   "display_name": "Python 3",
   "language": "python",
   "name": "python3"
  },
  "language_info": {
   "codemirror_mode": {
    "name": "ipython",
    "version": 3
   },
   "file_extension": ".py",
   "mimetype": "text/x-python",
   "name": "python",
   "nbconvert_exporter": "python",
   "pygments_lexer": "ipython3",
   "version": "3.7.3"
  }
 },
 "nbformat": 4,
 "nbformat_minor": 2
}
