{
 "cells": [
  {
   "cell_type": "markdown",
   "metadata": {},
   "source": [
    "- (c) Ken-ichi Fukui, 2020/01/17\n",
    "- MIT License"
   ]
  },
  {
   "cell_type": "markdown",
   "metadata": {},
   "source": [
    "## SVMによるBreast Cancerデータの識別\n",
    "- 入れ子交差検証で最適パラメータを探索"
   ]
  },
  {
   "cell_type": "code",
   "execution_count": 1,
   "metadata": {},
   "outputs": [],
   "source": [
    "import numpy as np\n",
    "from sklearn.svm import SVC\n",
    "from sklearn.datasets import load_breast_cancer\n",
    "from sklearn.model_selection import StratifiedKFold, GridSearchCV\n",
    "from sklearn.preprocessing import scale"
   ]
  },
  {
   "cell_type": "markdown",
   "metadata": {},
   "source": [
    "### Breast Cancerデータのロード"
   ]
  },
  {
   "cell_type": "code",
   "execution_count": 2,
   "metadata": {},
   "outputs": [],
   "source": [
    "df = load_breast_cancer()\n",
    "X = df.data\n",
    "y = df.target\n",
    "\n",
    "# z標準化\n",
    "X = scale(X)"
   ]
  },
  {
   "cell_type": "code",
   "execution_count": 3,
   "metadata": {},
   "outputs": [
    {
     "name": "stdout",
     "output_type": "stream",
     "text": [
      ".. _breast_cancer_dataset:\n",
      "\n",
      "Breast cancer wisconsin (diagnostic) dataset\n",
      "--------------------------------------------\n",
      "\n",
      "**Data Set Characteristics:**\n",
      "\n",
      "    :Number of Instances: 569\n",
      "\n",
      "    :Number of Attributes: 30 numeric, predictive attributes and the class\n",
      "\n",
      "    :Attribute Information:\n",
      "        - radius (mean of distances from center to points on the perimeter)\n",
      "        - texture (standard deviation of gray-scale values)\n",
      "        - perimeter\n",
      "        - area\n",
      "        - smoothness (local variation in radius lengths)\n",
      "        - compactness (perimeter^2 / area - 1.0)\n",
      "        - concavity (severity of concave portions of the contour)\n",
      "        - concave points (number of concave portions of the contour)\n",
      "        - symmetry \n",
      "        - fractal dimension (\"coastline approximation\" - 1)\n",
      "\n",
      "        The mean, standard error, and \"worst\" or largest (mean of the three\n",
      "        largest values) of these features were computed for each image,\n",
      "        resulting in 30 features.  For instance, field 3 is Mean Radius, field\n",
      "        13 is Radius SE, field 23 is Worst Radius.\n",
      "\n",
      "        - class:\n",
      "                - WDBC-Malignant\n",
      "                - WDBC-Benign\n",
      "\n",
      "    :Summary Statistics:\n",
      "\n",
      "    ===================================== ====== ======\n",
      "                                           Min    Max\n",
      "    ===================================== ====== ======\n",
      "    radius (mean):                        6.981  28.11\n",
      "    texture (mean):                       9.71   39.28\n",
      "    perimeter (mean):                     43.79  188.5\n",
      "    area (mean):                          143.5  2501.0\n",
      "    smoothness (mean):                    0.053  0.163\n",
      "    compactness (mean):                   0.019  0.345\n",
      "    concavity (mean):                     0.0    0.427\n",
      "    concave points (mean):                0.0    0.201\n",
      "    symmetry (mean):                      0.106  0.304\n",
      "    fractal dimension (mean):             0.05   0.097\n",
      "    radius (standard error):              0.112  2.873\n",
      "    texture (standard error):             0.36   4.885\n",
      "    perimeter (standard error):           0.757  21.98\n",
      "    area (standard error):                6.802  542.2\n",
      "    smoothness (standard error):          0.002  0.031\n",
      "    compactness (standard error):         0.002  0.135\n",
      "    concavity (standard error):           0.0    0.396\n",
      "    concave points (standard error):      0.0    0.053\n",
      "    symmetry (standard error):            0.008  0.079\n",
      "    fractal dimension (standard error):   0.001  0.03\n",
      "    radius (worst):                       7.93   36.04\n",
      "    texture (worst):                      12.02  49.54\n",
      "    perimeter (worst):                    50.41  251.2\n",
      "    area (worst):                         185.2  4254.0\n",
      "    smoothness (worst):                   0.071  0.223\n",
      "    compactness (worst):                  0.027  1.058\n",
      "    concavity (worst):                    0.0    1.252\n",
      "    concave points (worst):               0.0    0.291\n",
      "    symmetry (worst):                     0.156  0.664\n",
      "    fractal dimension (worst):            0.055  0.208\n",
      "    ===================================== ====== ======\n",
      "\n",
      "    :Missing Attribute Values: None\n",
      "\n",
      "    :Class Distribution: 212 - Malignant, 357 - Benign\n",
      "\n",
      "    :Creator:  Dr. William H. Wolberg, W. Nick Street, Olvi L. Mangasarian\n",
      "\n",
      "    :Donor: Nick Street\n",
      "\n",
      "    :Date: November, 1995\n",
      "\n",
      "This is a copy of UCI ML Breast Cancer Wisconsin (Diagnostic) datasets.\n",
      "https://goo.gl/U2Uwz2\n",
      "\n",
      "Features are computed from a digitized image of a fine needle\n",
      "aspirate (FNA) of a breast mass.  They describe\n",
      "characteristics of the cell nuclei present in the image.\n",
      "\n",
      "Separating plane described above was obtained using\n",
      "Multisurface Method-Tree (MSM-T) [K. P. Bennett, \"Decision Tree\n",
      "Construction Via Linear Programming.\" Proceedings of the 4th\n",
      "Midwest Artificial Intelligence and Cognitive Science Society,\n",
      "pp. 97-101, 1992], a classification method which uses linear\n",
      "programming to construct a decision tree.  Relevant features\n",
      "were selected using an exhaustive search in the space of 1-4\n",
      "features and 1-3 separating planes.\n",
      "\n",
      "The actual linear program used to obtain the separating plane\n",
      "in the 3-dimensional space is that described in:\n",
      "[K. P. Bennett and O. L. Mangasarian: \"Robust Linear\n",
      "Programming Discrimination of Two Linearly Inseparable Sets\",\n",
      "Optimization Methods and Software 1, 1992, 23-34].\n",
      "\n",
      "This database is also available through the UW CS ftp server:\n",
      "\n",
      "ftp ftp.cs.wisc.edu\n",
      "cd math-prog/cpo-dataset/machine-learn/WDBC/\n",
      "\n",
      ".. topic:: References\n",
      "\n",
      "   - W.N. Street, W.H. Wolberg and O.L. Mangasarian. Nuclear feature extraction \n",
      "     for breast tumor diagnosis. IS&T/SPIE 1993 International Symposium on \n",
      "     Electronic Imaging: Science and Technology, volume 1905, pages 861-870,\n",
      "     San Jose, CA, 1993.\n",
      "   - O.L. Mangasarian, W.N. Street and W.H. Wolberg. Breast cancer diagnosis and \n",
      "     prognosis via linear programming. Operations Research, 43(4), pages 570-577, \n",
      "     July-August 1995.\n",
      "   - W.H. Wolberg, W.N. Street, and O.L. Mangasarian. Machine learning techniques\n",
      "     to diagnose breast cancer from fine-needle aspirates. Cancer Letters 77 (1994) \n",
      "     163-171.\n"
     ]
    }
   ],
   "source": [
    "print(df.DESCR)"
   ]
  },
  {
   "cell_type": "markdown",
   "metadata": {},
   "source": [
    "### 入れ子交差検証でハイパーパラメータをグリッドサーチ\n",
    "- グリッドサーチパラメータリストの書き方は下記を参照\n",
    "- http://scikit-learn.org/stable/modules/grid_search.html#grid-search\n",
    "- SVCの可能なパラメータリストは下記を参照\n",
    "- http://scikit-learn.org/stable/modules/generated/sklearn.svm.SVC.html#sklearn.svm.SVC"
   ]
  },
  {
   "cell_type": "code",
   "execution_count": 4,
   "metadata": {
    "scrolled": true
   },
   "outputs": [
    {
     "name": "stdout",
     "output_type": "stream",
     "text": [
      "Fold # 1; Best Parameter: {'coef0': 1, 'degree': 4, 'gamma': 0.02, 'kernel': 'poly'}, Accuracy: 0.977\n",
      "Fold # 2; Best Parameter: {'coef0': 3, 'degree': 4, 'gamma': 0.01, 'kernel': 'poly'}, Accuracy: 0.971\n",
      "Fold # 3; Best Parameter: {'coef0': 1, 'degree': 2, 'gamma': 0.05, 'kernel': 'poly'}, Accuracy: 0.977\n",
      "Fold # 4; Best Parameter: {'coef0': 1, 'degree': 3, 'gamma': 0.02, 'kernel': 'poly'}, Accuracy: 0.975\n",
      "Fold # 5; Best Parameter: {'coef0': 3, 'degree': 3, 'gamma': 0.01, 'kernel': 'poly'}, Accuracy: 0.979\n",
      "Fold # 6; Best Parameter: {'coef0': 1, 'degree': 4, 'gamma': 0.05, 'kernel': 'poly'}, Accuracy: 0.984\n",
      "Fold # 7; Best Parameter: {'coef0': 3, 'degree': 3, 'gamma': 0.01, 'kernel': 'poly'}, Accuracy: 0.980\n",
      "Fold # 8; Best Parameter: {'coef0': 3, 'degree': 2, 'gamma': 0.01, 'kernel': 'poly'}, Accuracy: 0.979\n",
      "Fold # 9; Best Parameter: {'coef0': 1, 'degree': 4, 'gamma': 0.02, 'kernel': 'poly'}, Accuracy: 0.982\n",
      "Fold #10; Best Parameter: {'coef0': 5, 'degree': 2, 'gamma': 0.02, 'kernel': 'poly'}, Accuracy: 0.975\n"
     ]
    }
   ],
   "source": [
    "# 外側ループのための交差検証用データ生成インスタンス\n",
    "kfold = StratifiedKFold(n_splits=10, shuffle=True)\n",
    "\n",
    "acc_trn_list = []  #外側ループのfold毎の学習データに対するaccuracy格納用\n",
    "acc_tst_list = []  #外側ループのfold毎のテストデータに対するaccuracy格納用\n",
    "\n",
    "# グリッドサーチのパラメータリスト\n",
    "parameters = {'kernel':['poly','rbf','sigmoid'], \n",
    "                      'gamma':[0.01, 0.02, 0.05, 0.1, 0,2, 1, 10, 100], \n",
    "                      'degree':[1,2,3,4], \n",
    "                      'coef0':[1,3,5,10,100]\n",
    "                      } \n",
    "# 内側ループでグリッドサーチを行う交差検証インスタンス\n",
    "gs = GridSearchCV(SVC(), parameters, cv=2, iid=False) \n",
    "\n",
    "k=0\n",
    "# 内側ループのグリッドサーチ\n",
    "for train_itr, test_itr in kfold.split(X, y):\n",
    "    gs.fit(X[train_itr], y[train_itr])\n",
    "    print('Fold #{:2d}; Best Parameter: {}, Accuracy: {:.3f}'\\\n",
    "        .format(k+1,gs.best_params_,gs.best_score_))\n",
    "    acc_trn_list.append(gs.score(X[train_itr],y[train_itr]))\n",
    "    acc_tst_list.append(gs.score(X[test_itr],y[test_itr]))\n",
    "    k=k+1"
   ]
  },
  {
   "cell_type": "markdown",
   "metadata": {},
   "source": [
    "### 平均Accuracy"
   ]
  },
  {
   "cell_type": "code",
   "execution_count": 5,
   "metadata": {},
   "outputs": [
    {
     "name": "stdout",
     "output_type": "stream",
     "text": [
      "Training data: 0.988\n",
      "Test data: 0.975\n"
     ]
    }
   ],
   "source": [
    "print('Training data: %1.3f' % np.mean(acc_trn_list))\n",
    "print('Test data: %1.3f' % np.mean(acc_tst_list))"
   ]
  }
 ],
 "metadata": {
  "kernelspec": {
   "display_name": "Python 3",
   "language": "python",
   "name": "python3"
  },
  "language_info": {
   "codemirror_mode": {
    "name": "ipython",
    "version": 3
   },
   "file_extension": ".py",
   "mimetype": "text/x-python",
   "name": "python",
   "nbconvert_exporter": "python",
   "pygments_lexer": "ipython3",
   "version": "3.7.3"
  }
 },
 "nbformat": 4,
 "nbformat_minor": 2
}
