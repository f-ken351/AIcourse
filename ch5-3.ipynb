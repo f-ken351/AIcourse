{
 "cells": [
  {
   "cell_type": "markdown",
   "metadata": {},
   "source": [
    "- (c) Ken-ichi Fukui, 2020/01/17\n",
    "- MIT License"
   ]
  },
  {
   "cell_type": "markdown",
   "metadata": {},
   "source": [
    "## ロジスティック回帰による手書き文字認識\n",
    "- MNISTデータセットについては，下記からダウンロードして本プログラムと同じフォルダ内に配置\n",
    " - http://yann.lecun.com/exdb/mnist/"
   ]
  },
  {
   "cell_type": "code",
   "execution_count": 11,
   "metadata": {},
   "outputs": [],
   "source": [
    "%matplotlib inline\n",
    "import os\n",
    "import struct\n",
    "import matplotlib.pyplot as plt\n",
    "import numpy as np\n",
    "from sklearn.linear_model import LogisticRegression"
   ]
  },
  {
   "cell_type": "markdown",
   "metadata": {},
   "source": [
    "### MNISTデータの読み込み関数"
   ]
  },
  {
   "cell_type": "code",
   "execution_count": 12,
   "metadata": {},
   "outputs": [],
   "source": [
    "def load_mnist(path, kind='train'):\n",
    "\n",
    "    labels_path = os.path.join(path,'%s-labels-idx1-ubyte'% kind)\n",
    "    images_path = os.path.join(path,'%s-images-idx3-ubyte'% kind)\n",
    "\n",
    "    with open(labels_path, 'rb') as lbpath:\n",
    "        magic, n = struct.unpack('>II',lbpath.read(8))\n",
    "        labels = np.fromfile(lbpath,dtype=np.uint8)\n",
    "\n",
    "    with open(images_path, 'rb') as imgpath:\n",
    "        magic, num, rows, cols = struct.unpack(\">IIII\",imgpath.read(16))\n",
    "        images = np.fromfile(imgpath,dtype=np.uint8).reshape(len(labels), 784)\n",
    "\n",
    "    return images, labels"
   ]
  },
  {
   "cell_type": "markdown",
   "metadata": {},
   "source": [
    "### MNISTデータの読み込み"
   ]
  },
  {
   "cell_type": "code",
   "execution_count": 13,
   "metadata": {},
   "outputs": [],
   "source": [
    "current_path = os.path.dirname(os.path.realpath('__file__'))\n",
    "X_train, y_train = load_mnist(current_path, kind='train')\n",
    "X_test, y_test = load_mnist(current_path, kind='t10k')"
   ]
  },
  {
   "cell_type": "code",
   "execution_count": 14,
   "metadata": {},
   "outputs": [
    {
     "name": "stdout",
     "output_type": "stream",
     "text": [
      "#data: 1000, #feature: 784 (training data)\n",
      "#data: 1000, #feature: 784 (test data)\n"
     ]
    }
   ],
   "source": [
    "# 学習用に最初の1000点，テスト用に最初の1000点のデータを使用\n",
    "X_train = X_train[:1000][:]\n",
    "y_train = y_train[:1000][:]\n",
    "X_test = X_test[:1000][:]\n",
    "y_test = y_test[:1000][:]\n",
    "print('#data: %d, #feature: %d (training data)' % (X_train.shape[0], X_train.shape[1]))\n",
    "print('#data: %d, #feature: %d (test data)' % (X_test.shape[0], X_test.shape[1]))"
   ]
  },
  {
   "cell_type": "markdown",
   "metadata": {},
   "source": [
    "### ロジスティック回帰のインスタンスの生成と学習\n",
    "- 3クラス以上のマルチクラスへの対応は、multi_classで指定する。ovr(one-versus-rest)法は、1対多でクラス数分の識別器を構築し、テストデータのクラス分類は最も事後確率の高いクラスへ分類する方式。"
   ]
  },
  {
   "cell_type": "code",
   "execution_count": 15,
   "metadata": {},
   "outputs": [
    {
     "data": {
      "text/plain": [
       "LogisticRegression(C=1000.0, class_weight=None, dual=False,\n",
       "          fit_intercept=True, intercept_scaling=1, max_iter=100,\n",
       "          multi_class='ovr', n_jobs=None, penalty='l2', random_state=0,\n",
       "          solver='liblinear', tol=0.0001, verbose=0, warm_start=False)"
      ]
     },
     "execution_count": 15,
     "metadata": {},
     "output_type": "execute_result"
    }
   ],
   "source": [
    "lr = LogisticRegression(penalty='l2', C=1000.0, random_state=0, solver='liblinear', multi_class='ovr')\n",
    "lr.fit(X_train, y_train)"
   ]
  },
  {
   "cell_type": "markdown",
   "metadata": {},
   "source": [
    "### 学習データおよびテストデータに対するaccuracyの算出"
   ]
  },
  {
   "cell_type": "code",
   "execution_count": 16,
   "metadata": {},
   "outputs": [
    {
     "name": "stdout",
     "output_type": "stream",
     "text": [
      "accuracy for training data: 100.00%\n",
      "accuracy for test data: 81.70%\n"
     ]
    }
   ],
   "source": [
    "y_train_pred = lr.predict(X_train)\n",
    "acc = np.sum(y_train == y_train_pred, axis=0)*100 / X_train.shape[0]\n",
    "print('accuracy for training data: %.2f%%' % acc)\n",
    "\n",
    "y_test_pred = lr.predict(X_test)\n",
    "acc = np.sum(y_test == y_test_pred, axis=0)*100 / X_test.shape[0]\n",
    "print('accuracy for test data: %.2f%%' % acc)"
   ]
  },
  {
   "cell_type": "markdown",
   "metadata": {},
   "source": [
    "### 最初の25サンプルの識別結果をプロット\n",
    "t: 正解クラス，p: 識別器による推測クラス"
   ]
  },
  {
   "cell_type": "code",
   "execution_count": 17,
   "metadata": {},
   "outputs": [
    {
     "data": {
      "image/png": "[encoded data removed]",
      "text/plain": [
       "<Figure size 432x288 with 25 Axes>"
      ]
     },
     "metadata": {},
     "output_type": "display_data"
    }
   ],
   "source": [
    "orign_img = X_test[:25]\n",
    "true_lab = y_test[:25]\n",
    "predicted_lab = y_test_pred[:25]\n",
    "\n",
    "fig, ax = plt.subplots(nrows=5, ncols=5, sharex=True, sharey=True,)\n",
    "ax = ax.flatten()\n",
    "for i in range(25):\n",
    "    img = orign_img[i].reshape(28, 28)\n",
    "    ax[i].imshow(img, cmap='Greys', interpolation='nearest')\n",
    "    ax[i].set_title('%d) t: %d p: %d' % (i+1, true_lab[i], predicted_lab[i]))\n",
    "\n",
    "ax[0].set_xticks([])\n",
    "ax[0].set_yticks([])\n",
    "plt.subplots_adjust(hspace=1.0, wspace=2.0)\n",
    "plt.show()"
   ]
  },
  {
   "cell_type": "markdown",
   "metadata": {},
   "source": [
    "### 逆正則化パラメータを変化"
   ]
  },
  {
   "cell_type": "code",
   "execution_count": 21,
   "metadata": {},
   "outputs": [],
   "source": [
    "weights, params = [], []\n",
    "n_nonzero_weights, accuracy_train, accuracy_test = [], [], []\n",
    "for c in np.arange(-10, 11, dtype=np.float):\n",
    "    lr = LogisticRegression(penalty='l1', C=10**c, random_state=0, solver='liblinear', multi_class='ovr')\n",
    "    lr.fit(X_train, y_train)\n",
    "    \n",
    "    n_nonzero_weights.append(np.count_nonzero(lr.coef_[1]))\n",
    "    \n",
    "    params.append(10**c)\n",
    "    y_train_pred = lr.predict(X_train)\n",
    "    y_test_pred = lr.predict(X_test)\n",
    "    acc_train_temp = np.sum(y_train == y_train_pred, axis=0) *100 / X_train.shape[0]\n",
    "    acc_test_temp = np.sum(y_test == y_test_pred, axis=0) *100 / X_test.shape[0]\n",
    "    accuracy_train.append(acc_train_temp)\n",
    "    accuracy_test.append(acc_test_temp)"
   ]
  },
  {
   "cell_type": "markdown",
   "metadata": {},
   "source": [
    "### 分類精度のグラフ出力"
   ]
  },
  {
   "cell_type": "code",
   "execution_count": 22,
   "metadata": {},
   "outputs": [
    {
     "data": {
      "image/png": "[encoded data removed]",
      "text/plain": [
       "<Figure size 432x288 with 1 Axes>"
      ]
     },
     "metadata": {
      "needs_background": "light"
     },
     "output_type": "display_data"
    }
   ],
   "source": [
    "plt.plot(params, accuracy_train,label='Training')\n",
    "plt.plot(params, accuracy_test, label='Test')\n",
    "plt.ylabel('Accuracy')\n",
    "plt.xlabel('C')\n",
    "plt.legend(loc='upper left')\n",
    "plt.xscale('log')\n",
    "plt.show()"
   ]
  },
  {
   "cell_type": "markdown",
   "metadata": {},
   "source": [
    "### 非ゼロ重みの数のグラフ出力"
   ]
  },
  {
   "cell_type": "code",
   "execution_count": 23,
   "metadata": {},
   "outputs": [
    {
     "data": {
      "image/png": "[encoded data removed]",
      "text/plain": [
       "<Figure size 432x288 with 1 Axes>"
      ]
     },
     "metadata": {
      "needs_background": "light"
     },
     "output_type": "display_data"
    }
   ],
   "source": [
    "plt.plot(params, n_nonzero_weights)\n",
    "plt.ylabel('# non-zero weights')\n",
    "plt.xlabel('C')\n",
    "plt.xscale('log')\n",
    "plt.show()"
   ]
  }
 ],
 "metadata": {
  "kernelspec": {
   "display_name": "Python 3",
   "language": "python",
   "name": "python3"
  },
  "language_info": {
   "codemirror_mode": {
    "name": "ipython",
    "version": 3
   },
   "file_extension": ".py",
   "mimetype": "text/x-python",
   "name": "python",
   "nbconvert_exporter": "python",
   "pygments_lexer": "ipython3",
   "version": "3.7.3"
  }
 },
 "nbformat": 4,
 "nbformat_minor": 2
}
