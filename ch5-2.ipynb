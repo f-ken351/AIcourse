{
 "cells": [
  {
   "cell_type": "markdown",
   "metadata": {},
   "source": [
    "- (c) Ken-ichi Fukui, 2020/01/17\n",
    "-  MIT License"
   ]
  },
  {
   "cell_type": "markdown",
   "metadata": {},
   "source": [
    "## ナイーブベイズ分類器によるゴルフプレイデータの識別とROC,AUCによる評価\n",
    "- データweather.nominal.arffは本プログラムと同じフォルダ内に置いておく"
   ]
  },
  {
   "cell_type": "code",
   "execution_count": 37,
   "metadata": {},
   "outputs": [],
   "source": [
    "%matplotlib inline\n",
    "import numpy as np\n",
    "from sklearn.preprocessing import LabelEncoder,OneHotEncoder\n",
    "from scipy.io import arff\n",
    "from sklearn.model_selection import LeaveOneOut\n",
    "from sklearn.metrics import roc_curve,auc\n",
    "import matplotlib.pyplot as plt\n",
    "from sklearn.naive_bayes import BernoulliNB"
   ]
  },
  {
   "cell_type": "markdown",
   "metadata": {},
   "source": [
    "### arffデータの読み込み"
   ]
  },
  {
   "cell_type": "code",
   "execution_count": 38,
   "metadata": {},
   "outputs": [
    {
     "data": {
      "text/plain": [
       "(array([(b'sunny', b'hot', b'high', b'FALSE', b'no'),\n",
       "        (b'sunny', b'hot', b'high', b'TRUE', b'no'),\n",
       "        (b'overcast', b'hot', b'high', b'FALSE', b'yes'),\n",
       "        (b'rainy', b'mild', b'high', b'FALSE', b'yes'),\n",
       "        (b'rainy', b'cool', b'normal', b'FALSE', b'yes'),\n",
       "        (b'rainy', b'cool', b'normal', b'TRUE', b'no'),\n",
       "        (b'overcast', b'cool', b'normal', b'TRUE', b'yes'),\n",
       "        (b'sunny', b'mild', b'high', b'FALSE', b'no'),\n",
       "        (b'sunny', b'cool', b'normal', b'FALSE', b'yes'),\n",
       "        (b'rainy', b'mild', b'normal', b'FALSE', b'yes'),\n",
       "        (b'sunny', b'mild', b'normal', b'TRUE', b'yes'),\n",
       "        (b'overcast', b'mild', b'high', b'TRUE', b'yes'),\n",
       "        (b'overcast', b'hot', b'normal', b'FALSE', b'yes'),\n",
       "        (b'rainy', b'mild', b'high', b'TRUE', b'no')],\n",
       "       dtype=[('outlook', 'S8'), ('temperature', 'S4'), ('humidity', 'S6'), ('windy', 'S5'), ('play', 'S3')]),\n",
       " Dataset: weather.symbolic\n",
       " \toutlook's type is nominal, range is ('sunny', 'overcast', 'rainy')\n",
       " \ttemperature's type is nominal, range is ('hot', 'mild', 'cool')\n",
       " \thumidity's type is nominal, range is ('high', 'normal')\n",
       " \twindy's type is nominal, range is ('TRUE', 'FALSE')\n",
       " \tplay's type is nominal, range is ('yes', 'no'))"
      ]
     },
     "execution_count": 38,
     "metadata": {},
     "output_type": "execute_result"
    }
   ],
   "source": [
    "f = open(\"weather.nominal.arff\", \"r\", encoding=\"utf-8\")\n",
    "data, meta = arff.loadarff(f)\n",
    "data, meta"
   ]
  },
  {
   "cell_type": "markdown",
   "metadata": {},
   "source": [
    "### LabelEncoderを使ってラベル特徴を数値に変換\n",
    "例えば，変数outlookの値{sunny, overcast, rainy}は，{0,1,2}に変換される"
   ]
  },
  {
   "cell_type": "code",
   "execution_count": 39,
   "metadata": {},
   "outputs": [
    {
     "data": {
      "text/plain": [
       "array([[2., 1., 0., 0.],\n",
       "       [2., 1., 0., 1.],\n",
       "       [0., 1., 0., 0.],\n",
       "       [1., 2., 0., 0.],\n",
       "       [1., 0., 1., 0.],\n",
       "       [1., 0., 1., 1.],\n",
       "       [0., 0., 1., 1.],\n",
       "       [2., 2., 0., 0.],\n",
       "       [2., 0., 1., 0.],\n",
       "       [1., 2., 1., 0.],\n",
       "       [2., 2., 1., 1.],\n",
       "       [0., 2., 0., 1.],\n",
       "       [0., 1., 1., 0.],\n",
       "       [1., 2., 0., 1.]])"
      ]
     },
     "execution_count": 39,
     "metadata": {},
     "output_type": "execute_result"
    }
   ],
   "source": [
    "le = [LabelEncoder(), LabelEncoder(), LabelEncoder(), LabelEncoder(),LabelEncoder()]\n",
    "for idx,attr in enumerate(meta):\n",
    "    le[idx].fit(list(meta[attr][1]))\n",
    "\n",
    "class_array = np.array([])\n",
    "feature_array = np.zeros((0,4))\n",
    "\n",
    "for x in data:\n",
    "    w = list(x)\n",
    "    class_array = np.append(class_array, le[-1].transform(w[-1].decode(\"utf-8\").split()))\n",
    "    w.pop(-1)\n",
    "    for idx in range(0, len(w)):\n",
    "        w[idx] = le[idx].transform(w[idx].decode(\"utf-8\").split())\n",
    "    temp = np.array(w)\n",
    "    feature_array = np.append(feature_array, np.ravel(temp).reshape(1,-1), axis=0)\n",
    "\n",
    "feature_array"
   ]
  },
  {
   "cell_type": "markdown",
   "metadata": {},
   "source": [
    "### OneHotEncoderを使ってLabelEncoderで数値化したラベル特徴をさらに変換\n",
    "sunnyは{1,0,0}，overcastは{0,1,0},rainyは{0,0,1}に変換される\n",
    "\n",
    "順序を持たないラベル変数の場合はLabelEncoderだけでは不適切"
   ]
  },
  {
   "cell_type": "code",
   "execution_count": 40,
   "metadata": {},
   "outputs": [
    {
     "data": {
      "text/plain": [
       "array([[0., 0., 1., 0., 1., 0., 1., 0., 1., 0.],\n",
       "       [0., 0., 1., 0., 1., 0., 1., 0., 0., 1.],\n",
       "       [1., 0., 0., 0., 1., 0., 1., 0., 1., 0.],\n",
       "       [0., 1., 0., 0., 0., 1., 1., 0., 1., 0.],\n",
       "       [0., 1., 0., 1., 0., 0., 0., 1., 1., 0.],\n",
       "       [0., 1., 0., 1., 0., 0., 0., 1., 0., 1.],\n",
       "       [1., 0., 0., 1., 0., 0., 0., 1., 0., 1.],\n",
       "       [0., 0., 1., 0., 0., 1., 1., 0., 1., 0.],\n",
       "       [0., 0., 1., 1., 0., 0., 0., 1., 1., 0.],\n",
       "       [0., 1., 0., 0., 0., 1., 0., 1., 1., 0.],\n",
       "       [0., 0., 1., 0., 0., 1., 0., 1., 0., 1.],\n",
       "       [1., 0., 0., 0., 0., 1., 1., 0., 0., 1.],\n",
       "       [1., 0., 0., 0., 1., 0., 0., 1., 1., 0.],\n",
       "       [0., 1., 0., 0., 0., 1., 1., 0., 0., 1.]])"
      ]
     },
     "execution_count": 40,
     "metadata": {},
     "output_type": "execute_result"
    }
   ],
   "source": [
    "enc = OneHotEncoder(categories='auto')\n",
    "feature_encoded = enc.fit_transform(feature_array).toarray()\n",
    "feature_encoded"
   ]
  },
  {
   "cell_type": "markdown",
   "metadata": {},
   "source": [
    "### 1つ抜き交差検証（Leave-one-out cross-validation）\n",
    "全N個のデータから1個を除いた(N-1)個を学習データとしてモデルを学習し，残りの1個でテストを行う．これをN回繰り返す．"
   ]
  },
  {
   "cell_type": "code",
   "execution_count": 41,
   "metadata": {},
   "outputs": [
    {
     "name": "stdout",
     "output_type": "stream",
     "text": [
      "True Label: [0.]\n",
      "Posterior Probability: [[0.85409769 0.14590231]]\n",
      "True Label: [0.]\n",
      "Posterior Probability: [[0.98803977 0.01196023]]\n",
      "True Label: [1.]\n",
      "Posterior Probability: [[0.52900682 0.47099318]]\n",
      "True Label: [1.]\n",
      "Posterior Probability: [[0.94442502 0.05557498]]\n",
      "True Label: [1.]\n",
      "Posterior Probability: [[0.13106095 0.86893905]]\n",
      "True Label: [0.]\n",
      "Posterior Probability: [[1.27054451e-04 9.99872946e-01]]\n",
      "True Label: [1.]\n",
      "Posterior Probability: [[0.02965118 0.97034882]]\n",
      "True Label: [0.]\n",
      "Posterior Probability: [[0.68291583 0.31708417]]\n",
      "True Label: [1.]\n",
      "Posterior Probability: [[0.42873711 0.57126289]]\n",
      "True Label: [1.]\n",
      "Posterior Probability: [[0.17177252 0.82822748]]\n",
      "True Label: [1.]\n",
      "Posterior Probability: [[0.92989151 0.07010849]]\n",
      "True Label: [1.]\n",
      "Posterior Probability: [[0.7749193 0.2250807]]\n",
      "True Label: [1.]\n",
      "Posterior Probability: [[0.01352228 0.98647772]]\n",
      "True Label: [0.]\n",
      "Posterior Probability: [[0.82916301 0.17083699]]\n"
     ]
    }
   ],
   "source": [
    "y_train_post_list,y_train_list,y_test_post_list,y_test_list = [],[],[],[]\n",
    "\n",
    "loo = LeaveOneOut()\n",
    "for train_index, test_index in loo.split(feature_encoded):\n",
    "    X_train, X_test = feature_encoded[train_index], feature_encoded[test_index]\n",
    "    y_train, y_test = class_array[train_index], class_array[test_index]\n",
    "\n",
    "    # =====================================================================\n",
    "    # ベルヌーイナイーブベイズ（BernoulliNB）を使用する．\n",
    "    # alpha(>0)はスムージングのパラメータ．\n",
    "    # ただし，スライドの等価標本サイズmとの関係はalpha=m/n\n",
    "    # http://scikit-learn.org/stable/modules/naive_bayes.html#multinomial-naive-bayes\n",
    "    # fit_prior=Trueに指定すると学習データから事前確率を求める．\n",
    "    # class_priorは，class_prior=[0.2,0.8]の形で事前確率を指定する．fit_prior=Falseのときに有効．\n",
    "    clf = BernoulliNB(alpha=0.1, class_prior=[0.7,0.3], fit_prior=False)\n",
    "    clf.fit(X_train,y_train)\n",
    "\n",
    "    # =====================================================================\n",
    "    # 学習データとテストデータに対する各クラスの事後確率を算出\n",
    "    posterior_trn = clf.predict_proba(X_train)\n",
    "    posterior_tst = clf.predict_proba(X_test)\n",
    "\n",
    "    # テストデータの正解クラスと事後確率を出力\n",
    "    print(\"True Label:\", y_test)\n",
    "    print(\"Posterior Probability:\", posterior_tst)\n",
    "\n",
    "    # 正解クラスと事後確率を保存\n",
    "    y_train_post_list.extend(posterior_trn[:,[1]])\n",
    "    y_train_list.extend(y_train)\n",
    "    y_test_post_list.append(posterior_tst[0][1])\n",
    "    y_test_list.extend(y_test)"
   ]
  },
  {
   "cell_type": "markdown",
   "metadata": {},
   "source": [
    "### ROC曲線の描画とAUCの算出"
   ]
  },
  {
   "cell_type": "code",
   "execution_count": 42,
   "metadata": {},
   "outputs": [
    {
     "data": {
      "image/png": "[encoded data removed]",
      "text/plain": [
       "<Figure size 432x288 with 1 Axes>"
      ]
     },
     "metadata": {
      "needs_background": "light"
     },
     "output_type": "display_data"
    }
   ],
   "source": [
    "fpr_trn, tpr_trn, thresholds_trn = roc_curve(y_train_list, y_train_post_list)\n",
    "roc_auc_trn = auc(fpr_trn, tpr_trn)\n",
    "plt.plot(fpr_trn, tpr_trn, 'k--',label='ROC for training data (AUC = %0.2f)' % roc_auc_trn, lw=2, linestyle=\"-\")\n",
    "\n",
    "fpr_tst, tpr_tst, thresholds_tst = roc_curve(y_test_list, y_test_post_list)\n",
    "roc_auc_tst = auc(fpr_tst, tpr_tst)\n",
    "plt.plot(fpr_tst, tpr_tst, 'k--',label='ROC for test data (AUC = %0.2f)' % roc_auc_tst, lw=2, linestyle=\"--\")\n",
    "\n",
    "plt.xlim([-0.05, 1.05])\n",
    "plt.ylim([-0.05, 1.05])\n",
    "plt.xlabel('False Positive Rate')\n",
    "plt.ylabel('True Positive Rate')\n",
    "plt.title('Receiver operating characteristic example')\n",
    "plt.legend(loc=\"lower right\")\n",
    "\n",
    "plt.show()"
   ]
  }
 ],
 "metadata": {
  "kernelspec": {
   "display_name": "Python 3",
   "language": "python",
   "name": "python3"
  },
  "language_info": {
   "codemirror_mode": {
    "name": "ipython",
    "version": 3
   },
   "file_extension": ".py",
   "mimetype": "text/x-python",
   "name": "python",
   "nbconvert_exporter": "python",
   "pygments_lexer": "ipython3",
   "version": "3.7.3"
  }
 },
 "nbformat": 4,
 "nbformat_minor": 2
}
